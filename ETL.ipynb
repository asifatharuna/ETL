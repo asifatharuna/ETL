{
 "cells": [
  {
   "cell_type": "markdown",
   "metadata": {},
   "source": [
    "**Date: 2022-08-20**\n",
    "\n",
    "**Authors: Asifat Haruna Olawale**\n",
    "\n",
    "**email: olawaleasifat@gmail.com**\n",
    "\n",
    "**Copyright © 2022 Asifat Haruna. All rights reserved**"
   ]
  },
  {
   "cell_type": "markdown",
   "metadata": {},
   "source": [
    "<img src=\"./images/ETL.PNG\" width=\"500\">"
   ]
  },
  {
   "cell_type": "markdown",
   "metadata": {},
   "source": [
    "<center><h1> Basic Extraction-Transformation-Loading (ETL)  Process</h1></center>"
   ]
  },
  {
   "cell_type": "markdown",
   "metadata": {},
   "source": [
    "<h4>  This task is divided into two sections: <br> </h4>\n",
    "\n",
    "* The first section involves fetching data directly from a server using an API and scraping web pages. After obtaining the data, it is subjected to transformation processes before being loaded into a local directory.  \n",
    "\n",
    "*   The second section demonstrates the fundamental ETL process using diverse locally stored data sources within the directory. Additionally, it demonstrates the utilization of a local Relational Database Management System (RDBMS) for data storage."
   ]
  },
  {
   "cell_type": "markdown",
   "metadata": {},
   "source": [
    "# Table of contents\n",
    "\n",
    "<strong style=\"color:blue;\">SECTION ONE</strong> \n",
    "* [1. Extract data using web scraping](#1.-Extract-data-using-web-scraping) \n",
    "* [1.1 Transformation](#1.1-Transformation)\n",
    "* [1.2 Loading into a local directory](#1.2-Loading-into-a-local-directory)\n",
    "\n",
    "<strong style=\"color:blue;\">SECTION TWO</strong> \n",
    "* [2. ETL (Local)](#2.-ETL-(Local))\n",
    "* [2.1 Extraction ](#2.1-Extraction)\n",
    "* [2.2. Transformation](#2.2-Transformation)\n",
    "* [2.3. Loading](#2.3-Loading)\n",
    "    * [2.3.1 Loading into a local directory](#2.3.1-Loading-into-a-local-directory)\n",
    "    * [2.3.2 Loading into a local RDMS](#2.3.2-Loading-into-a-local-RDBMS)"
   ]
  },
  {
   "cell_type": "markdown",
   "metadata": {},
   "source": [
    "<h1 style=\"text-align:center; color:blue;\">SECTION ONE</h1>"
   ]
  },
  {
   "cell_type": "markdown",
   "metadata": {},
   "source": [
    "## Objectives\n",
    "\n",
    "The objectives involves :\n",
    "\n",
    "*   Utilizing web scraping to retrieve the list of the top 100 banks ranked by total assets in USD.\n",
    "*   Extracting the most recent exchange rate from an API.\n",
    "*   Subsequently,converting the banks' assets to another currency, specifically GBP.\n",
    "*   Storing the coverted data into a local directory"
   ]
  },
  {
   "cell_type": "markdown",
   "metadata": {},
   "source": [
    "## Imports"
   ]
  },
  {
   "cell_type": "code",
   "execution_count": 1,
   "metadata": {},
   "outputs": [],
   "source": [
    "from bs4 import BeautifulSoup # for parsing HTML content\n",
    "import requests #requests for making HTTP requests\n",
    "import pandas as pd  #pandas for data analysis and manipulation\n",
    "import json #for working with JSON data"
   ]
  },
  {
   "cell_type": "markdown",
   "metadata": {},
   "source": [
    "## 1. Extract Data Using Web Scraping"
   ]
  },
  {
   "cell_type": "markdown",
   "metadata": {},
   "source": [
    "Scrape the data related to the largest banks in the world based on market capitalization from the Wikipedia webpage https://en.wikipedia.org/wiki/List_of_largest_banks. Store this data as a DataFrame.\n",
    "\n",
    "### Webpage Contents\n",
    "\n",
    "Utilize the `requests` library to retrieve the content of the webpage, and then assign this data to the variable `html_data`"
   ]
  },
  {
   "cell_type": "markdown",
   "metadata": {},
   "source": [
    "<strong> Data pull request Function<strong/>"
   ]
  },
  {
   "cell_type": "code",
   "execution_count": 2,
   "metadata": {},
   "outputs": [],
   "source": [
    "def get_html(url):\n",
    "    with requests.get(url) as response:\n",
    "        if response.status_code==200:\n",
    "            html=response.text\n",
    "            return html\n",
    "        else:\n",
    "            raise RuntimeError(response.status_code)\n",
    "            \n",
    "\n",
    "html_data=get_html('https://en.wikipedia.org/wiki/List_of_largest_banks')\n",
    "#html_data"
   ]
  },
  {
   "cell_type": "markdown",
   "metadata": {},
   "source": [
    "<strong>Scarping the data using BeautifulSoup to parse the retrived contents of the  webpage<strong/>"
   ]
  },
  {
   "cell_type": "code",
   "execution_count": 3,
   "metadata": {},
   "outputs": [],
   "source": [
    "soup=BeautifulSoup(html_data,'html.parser')\n",
    "\n",
    "#finds all table in the retrieved webpage\n",
    "tables=soup.find_all('table')"
   ]
  },
  {
   "cell_type": "markdown",
   "metadata": {},
   "source": [
    "<div class=\"alert alert-block alert-info\">\n",
    "\n",
    "<b> Tip: pd.read_html is a Pandas function that reads HTML tables from a web page and returns a list of DataFrame objects containing the table data.  </b>\n",
    "\n",
    "</div>\n"
   ]
  },
  {
   "cell_type": "code",
   "execution_count": 4,
   "metadata": {},
   "outputs": [
    {
     "name": "stdout",
     "output_type": "stream",
     "text": [
      "The Table index  0 has a column 'Bank name' \n"
     ]
    }
   ],
   "source": [
    "table_df=pd.read_html(str(tables), flavor='bs4')\n",
    "\n",
    "#We can now subset the dataframe list to the dataframe of interest\n",
    "\n",
    "for id,table in enumerate(table_df):\n",
    "    columns=table.columns.values=='Bank name'\n",
    "    if columns.any():\n",
    "        idx=id\n",
    "        print('The Table index ',idx ,\"has a column 'Bank name' \" )\n",
    "        break \n",
    "    else:\n",
    "        print(\"None of the DataFrame tables contain the column for 'Bank name'\")"
   ]
  },
  {
   "cell_type": "code",
   "execution_count": 5,
   "metadata": {},
   "outputs": [
    {
     "data": {
      "text/html": [
       "<div>\n",
       "<style scoped>\n",
       "    .dataframe tbody tr th:only-of-type {\n",
       "        vertical-align: middle;\n",
       "    }\n",
       "\n",
       "    .dataframe tbody tr th {\n",
       "        vertical-align: top;\n",
       "    }\n",
       "\n",
       "    .dataframe thead th {\n",
       "        text-align: right;\n",
       "    }\n",
       "</style>\n",
       "<table border=\"1\" class=\"dataframe\">\n",
       "  <thead>\n",
       "    <tr style=\"text-align: right;\">\n",
       "      <th></th>\n",
       "      <th>Rank</th>\n",
       "      <th>Bank name</th>\n",
       "      <th>Total assets (2022) (US$ billion)</th>\n",
       "    </tr>\n",
       "  </thead>\n",
       "  <tbody>\n",
       "    <tr>\n",
       "      <th>0</th>\n",
       "      <td>1</td>\n",
       "      <td>Industrial and Commercial Bank of China Limited</td>\n",
       "      <td>5742.86</td>\n",
       "    </tr>\n",
       "    <tr>\n",
       "      <th>1</th>\n",
       "      <td>2</td>\n",
       "      <td>China Construction Bank</td>\n",
       "      <td>5016.81</td>\n",
       "    </tr>\n",
       "    <tr>\n",
       "      <th>2</th>\n",
       "      <td>3</td>\n",
       "      <td>Agricultural Bank of China</td>\n",
       "      <td>4919.03</td>\n",
       "    </tr>\n",
       "    <tr>\n",
       "      <th>3</th>\n",
       "      <td>4</td>\n",
       "      <td>Bank of China</td>\n",
       "      <td>4192.12</td>\n",
       "    </tr>\n",
       "    <tr>\n",
       "      <th>4</th>\n",
       "      <td>5</td>\n",
       "      <td>JPMorgan Chase</td>\n",
       "      <td>3665.74</td>\n",
       "    </tr>\n",
       "  </tbody>\n",
       "</table>\n",
       "</div>"
      ],
      "text/plain": [
       "   Rank                                        Bank name  \\\n",
       "0     1  Industrial and Commercial Bank of China Limited   \n",
       "1     2                          China Construction Bank   \n",
       "2     3                       Agricultural Bank of China   \n",
       "3     4                                    Bank of China   \n",
       "4     5                                   JPMorgan Chase   \n",
       "\n",
       "   Total assets (2022) (US$ billion)  \n",
       "0                            5742.86  \n",
       "1                            5016.81  \n",
       "2                            4919.03  \n",
       "3                            4192.12  \n",
       "4                            3665.74  "
      ]
     },
     "execution_count": 5,
     "metadata": {},
     "output_type": "execute_result"
    }
   ],
   "source": [
    "data=table_df[idx]\n",
    "data.head()"
   ]
  },
  {
   "cell_type": "markdown",
   "metadata": {},
   "source": [
    "<strong> Alternatively, we could iterate over the tags within the BeautifulSoup object and extract the respective columns.<strong/>"
   ]
  },
  {
   "cell_type": "code",
   "execution_count": 6,
   "metadata": {},
   "outputs": [],
   "source": [
    "data = pd.DataFrame(columns=[\"Bank name\", \"Total assets (2022) (US$ billion)\"])\n",
    "\n",
    "for row in soup.find_all('tbody')[idx].find_all('tr'):\n",
    "    col = row.find_all('td')\n",
    "    if col!=[]:\n",
    "        Bname=col[1].text.strip()\n",
    "        mcp=col[2].text.strip()\n",
    "        try:\n",
    "            mcp=float(str(mcp).replace(\",\",\"\"))\n",
    "        except:\n",
    "            mcp=float(mcp)\n",
    "        record=pd.DataFrame({\"Bank name\":[Bname],\"Total assets (2022) (US$ billion)\":[mcp]})\n",
    "        data=pd.concat([data,record],axis=0, ignore_index=True)\n",
    "\n",
    "        "
   ]
  },
  {
   "cell_type": "code",
   "execution_count": 7,
   "metadata": {},
   "outputs": [
    {
     "data": {
      "text/html": [
       "<div>\n",
       "<style scoped>\n",
       "    .dataframe tbody tr th:only-of-type {\n",
       "        vertical-align: middle;\n",
       "    }\n",
       "\n",
       "    .dataframe tbody tr th {\n",
       "        vertical-align: top;\n",
       "    }\n",
       "\n",
       "    .dataframe thead th {\n",
       "        text-align: right;\n",
       "    }\n",
       "</style>\n",
       "<table border=\"1\" class=\"dataframe\">\n",
       "  <thead>\n",
       "    <tr style=\"text-align: right;\">\n",
       "      <th></th>\n",
       "      <th>Bank name</th>\n",
       "      <th>Total assets (2022) (US$ billion)</th>\n",
       "    </tr>\n",
       "  </thead>\n",
       "  <tbody>\n",
       "    <tr>\n",
       "      <th>0</th>\n",
       "      <td>Industrial and Commercial Bank of China Limited</td>\n",
       "      <td>5742.86</td>\n",
       "    </tr>\n",
       "    <tr>\n",
       "      <th>1</th>\n",
       "      <td>China Construction Bank</td>\n",
       "      <td>5016.81</td>\n",
       "    </tr>\n",
       "    <tr>\n",
       "      <th>2</th>\n",
       "      <td>Agricultural Bank of China</td>\n",
       "      <td>4919.03</td>\n",
       "    </tr>\n",
       "    <tr>\n",
       "      <th>3</th>\n",
       "      <td>Bank of China</td>\n",
       "      <td>4192.12</td>\n",
       "    </tr>\n",
       "    <tr>\n",
       "      <th>4</th>\n",
       "      <td>JPMorgan Chase</td>\n",
       "      <td>3665.74</td>\n",
       "    </tr>\n",
       "  </tbody>\n",
       "</table>\n",
       "</div>"
      ],
      "text/plain": [
       "                                         Bank name  \\\n",
       "0  Industrial and Commercial Bank of China Limited   \n",
       "1                          China Construction Bank   \n",
       "2                       Agricultural Bank of China   \n",
       "3                                    Bank of China   \n",
       "4                                   JPMorgan Chase   \n",
       "\n",
       "   Total assets (2022) (US$ billion)  \n",
       "0                            5742.86  \n",
       "1                            5016.81  \n",
       "2                            4919.03  \n",
       "3                            4192.12  \n",
       "4                            3665.74  "
      ]
     },
     "execution_count": 7,
     "metadata": {},
     "output_type": "execute_result"
    }
   ],
   "source": [
    "#gives thesame result\n",
    "data.head()"
   ]
  },
  {
   "cell_type": "markdown",
   "metadata": {},
   "source": [
    "<strong> As part of the cleaning operation the \",\" in the Total assest colum will be removed</strong>"
   ]
  },
  {
   "cell_type": "markdown",
   "metadata": {},
   "source": [
    "## Extract Data current rates from an API"
   ]
  },
  {
   "cell_type": "markdown",
   "metadata": {},
   "source": [
    "<div class=\"alert alert-block alert-info\">\n",
    "<b>Tip:</b> The registration Page and API key needed to acess this API can be found  in this :<a href=\"https://apilayer.com/marketplace/exchangerates_data-api\">>>> Link </a>\n",
    "</div>"
   ]
  },
  {
   "cell_type": "markdown",
   "metadata": {},
   "source": [
    "<div class=\"alert alert-block alert-warning\">\n",
    "Please ensure that you modify the 'key' variable below with your updated API key.\n",
    "</div>"
   ]
  },
  {
   "cell_type": "code",
   "execution_count": 8,
   "metadata": {},
   "outputs": [],
   "source": [
    "key=\"cypWKtpQQy85ZPdGP40Jky2QKNEMUtX5\"\n",
    "base=\"USD\" #'EUR'\n",
    "url= f\"https://api.apilayer.com/exchangerates_data/latest?base={base}&apikey={key}\" "
   ]
  },
  {
   "cell_type": "code",
   "execution_count": 9,
   "metadata": {},
   "outputs": [],
   "source": [
    "html=requests.get(url).text\n",
    "soup=BeautifulSoup(html, 'html.parser')\n",
    "ex_rate_df=pd.DataFrame(json.loads(str(soup)))"
   ]
  },
  {
   "cell_type": "code",
   "execution_count": 10,
   "metadata": {},
   "outputs": [
    {
     "data": {
      "text/html": [
       "<div>\n",
       "<style scoped>\n",
       "    .dataframe tbody tr th:only-of-type {\n",
       "        vertical-align: middle;\n",
       "    }\n",
       "\n",
       "    .dataframe tbody tr th {\n",
       "        vertical-align: top;\n",
       "    }\n",
       "\n",
       "    .dataframe thead th {\n",
       "        text-align: right;\n",
       "    }\n",
       "</style>\n",
       "<table border=\"1\" class=\"dataframe\">\n",
       "  <thead>\n",
       "    <tr style=\"text-align: right;\">\n",
       "      <th></th>\n",
       "      <th>success</th>\n",
       "      <th>timestamp</th>\n",
       "      <th>base</th>\n",
       "      <th>date</th>\n",
       "      <th>rates</th>\n",
       "    </tr>\n",
       "  </thead>\n",
       "  <tbody>\n",
       "    <tr>\n",
       "      <th>AED</th>\n",
       "      <td>True</td>\n",
       "      <td>1691884444</td>\n",
       "      <td>USD</td>\n",
       "      <td>2023-08-12</td>\n",
       "      <td>3.673042</td>\n",
       "    </tr>\n",
       "    <tr>\n",
       "      <th>AFN</th>\n",
       "      <td>True</td>\n",
       "      <td>1691884444</td>\n",
       "      <td>USD</td>\n",
       "      <td>2023-08-12</td>\n",
       "      <td>84.354052</td>\n",
       "    </tr>\n",
       "    <tr>\n",
       "      <th>ALL</th>\n",
       "      <td>True</td>\n",
       "      <td>1691884444</td>\n",
       "      <td>USD</td>\n",
       "      <td>2023-08-12</td>\n",
       "      <td>94.669160</td>\n",
       "    </tr>\n",
       "    <tr>\n",
       "      <th>AMD</th>\n",
       "      <td>True</td>\n",
       "      <td>1691884444</td>\n",
       "      <td>USD</td>\n",
       "      <td>2023-08-12</td>\n",
       "      <td>388.891422</td>\n",
       "    </tr>\n",
       "    <tr>\n",
       "      <th>ANG</th>\n",
       "      <td>True</td>\n",
       "      <td>1691884444</td>\n",
       "      <td>USD</td>\n",
       "      <td>2023-08-12</td>\n",
       "      <td>1.807014</td>\n",
       "    </tr>\n",
       "  </tbody>\n",
       "</table>\n",
       "</div>"
      ],
      "text/plain": [
       "     success   timestamp base        date       rates\n",
       "AED     True  1691884444  USD  2023-08-12    3.673042\n",
       "AFN     True  1691884444  USD  2023-08-12   84.354052\n",
       "ALL     True  1691884444  USD  2023-08-12   94.669160\n",
       "AMD     True  1691884444  USD  2023-08-12  388.891422\n",
       "ANG     True  1691884444  USD  2023-08-12    1.807014"
      ]
     },
     "execution_count": 10,
     "metadata": {},
     "output_type": "execute_result"
    }
   ],
   "source": [
    "ex_rate_df.head()"
   ]
  },
  {
   "cell_type": "markdown",
   "metadata": {},
   "source": [
    "<strong>Conversion rate by currency Function<strong/>"
   ]
  },
  {
   "cell_type": "code",
   "execution_count": 11,
   "metadata": {},
   "outputs": [],
   "source": [
    "#function return the rates \n",
    "def ex_rate(rates_df=None, currency_id=None):\n",
    "    return(rates_df.loc[currency_id,'rates'])"
   ]
  },
  {
   "cell_type": "code",
   "execution_count": 12,
   "metadata": {},
   "outputs": [
    {
     "data": {
      "text/plain": [
       "0.787774"
      ]
     },
     "execution_count": 12,
     "metadata": {},
     "output_type": "execute_result"
    }
   ],
   "source": [
    "#for example \n",
    "exchange_rate=ex_rate(ex_rate_df,'GBP')\n",
    "exchange_rate"
   ]
  },
  {
   "cell_type": "markdown",
   "metadata": {},
   "source": [
    "## 1.1 Transformation\n",
    "[Go back to the \"Table of contents\"](#Table-of-contents)\n",
    "\n",
    "Using the sourced API <code>exchange rate dataframe(ex_rate_df)</code> and the <code>exchange_rate  function </code>, convert  the `market capitalization dataframe` from its base currency(USD) to GBP\n",
    "\n",
    "1.  Changes the `Total assets (year) (US$ billion)` column from USD to GBP\n",
    "2.  Rounds the Total assets  (US$ Billion)\\` column to 3 decimal places\n",
    "3.  Rename `Total assets (US$ Billion)` to `Total assets  (GBP$ Billion)`\n"
   ]
  },
  {
   "cell_type": "code",
   "execution_count": 13,
   "metadata": {},
   "outputs": [],
   "source": [
    "def transform(marketcap_df,ex_rate_df=None,currency_id=None):\n",
    "    # Write your code here\n",
    "    assert (isinstance(marketcap_df,pd.DataFrame)), 'The input file must be a dataframe instance'\n",
    "    assert (isinstance(ex_rate_df,pd.DataFrame)), 'The input file must be a dataframe instance'\n",
    "    mcap=marketcap_df.copy()\n",
    "    #apply the rate function\n",
    "    rate=ex_rate(ex_rate_df,currency_id)\n",
    "    mcap.iloc[:,1]=mcap.iloc[:,1].apply(lambda x: round(float(x)*rate,3))\n",
    "    mcap=mcap.rename(columns={mcap.columns.values[1]:f'Total assets (2022) ({currency_id} billion)'})\n",
    "    return mcap"
   ]
  },
  {
   "cell_type": "code",
   "execution_count": 14,
   "metadata": {},
   "outputs": [
    {
     "data": {
      "text/html": [
       "<div>\n",
       "<style scoped>\n",
       "    .dataframe tbody tr th:only-of-type {\n",
       "        vertical-align: middle;\n",
       "    }\n",
       "\n",
       "    .dataframe tbody tr th {\n",
       "        vertical-align: top;\n",
       "    }\n",
       "\n",
       "    .dataframe thead th {\n",
       "        text-align: right;\n",
       "    }\n",
       "</style>\n",
       "<table border=\"1\" class=\"dataframe\">\n",
       "  <thead>\n",
       "    <tr style=\"text-align: right;\">\n",
       "      <th></th>\n",
       "      <th>Bank name</th>\n",
       "      <th>Total assets (2022) (GBP billion)</th>\n",
       "    </tr>\n",
       "  </thead>\n",
       "  <tbody>\n",
       "    <tr>\n",
       "      <th>0</th>\n",
       "      <td>Industrial and Commercial Bank of China Limited</td>\n",
       "      <td>4524.076</td>\n",
       "    </tr>\n",
       "    <tr>\n",
       "      <th>1</th>\n",
       "      <td>China Construction Bank</td>\n",
       "      <td>3952.112</td>\n",
       "    </tr>\n",
       "    <tr>\n",
       "      <th>2</th>\n",
       "      <td>Agricultural Bank of China</td>\n",
       "      <td>3875.084</td>\n",
       "    </tr>\n",
       "    <tr>\n",
       "      <th>3</th>\n",
       "      <td>Bank of China</td>\n",
       "      <td>3302.443</td>\n",
       "    </tr>\n",
       "    <tr>\n",
       "      <th>4</th>\n",
       "      <td>JPMorgan Chase</td>\n",
       "      <td>2887.775</td>\n",
       "    </tr>\n",
       "  </tbody>\n",
       "</table>\n",
       "</div>"
      ],
      "text/plain": [
       "                                         Bank name  \\\n",
       "0  Industrial and Commercial Bank of China Limited   \n",
       "1                          China Construction Bank   \n",
       "2                       Agricultural Bank of China   \n",
       "3                                    Bank of China   \n",
       "4                                   JPMorgan Chase   \n",
       "\n",
       "   Total assets (2022) (GBP billion)  \n",
       "0                           4524.076  \n",
       "1                           3952.112  \n",
       "2                           3875.084  \n",
       "3                           3302.443  \n",
       "4                           2887.775  "
      ]
     },
     "execution_count": 14,
     "metadata": {},
     "output_type": "execute_result"
    }
   ],
   "source": [
    "transformed_data=transform(data,ex_rate_df=ex_rate_df,currency_id='GBP')\n",
    "transformed_data.head()"
   ]
  },
  {
   "cell_type": "markdown",
   "metadata": {},
   "source": [
    "## 1.2 Loading into a local directory\n",
    "[Go back to the \"Table of contents\"](#Table-of-contents)"
   ]
  },
  {
   "cell_type": "code",
   "execution_count": 15,
   "metadata": {},
   "outputs": [],
   "source": [
    "def load(targetfile=None,data_to_load=None):\n",
    "    assert(isinstance(data_to_load,pd.DataFrame)), \"The data to load must be a class of pandas dataframe\"\n",
    "    data_to_load.to_csv(targetfile, index=False)  "
   ]
  },
  {
   "cell_type": "code",
   "execution_count": 16,
   "metadata": {},
   "outputs": [],
   "source": [
    "load(targetfile=\"./transformed_data/Top_100_bank_asset_GBP.csv\",data_to_load=transformed_data)"
   ]
  },
  {
   "cell_type": "markdown",
   "metadata": {},
   "source": [
    "<h1 style=\"text-align:center; color:blue;\">SECTION TWO</h1>"
   ]
  },
  {
   "cell_type": "markdown",
   "metadata": {},
   "source": [
    "# Importing required python libraries"
   ]
  },
  {
   "cell_type": "code",
   "execution_count": 2,
   "metadata": {},
   "outputs": [],
   "source": [
    "import glob                         # data access in file manager\n",
    "import pandas as pd                 # data manipulation\n",
    "import xml.etree.ElementTree as ET  # this module helps in processing XML files.\n",
    "from os.path import join            # data access in file manager\n",
    "from datetime import datetime       # for handling datetime\n",
    "import pint #manipulate or convert physical quantities \n",
    "import sqlite3 # is used for interacting with SQLite databases from python"
   ]
  },
  {
   "cell_type": "markdown",
   "metadata": {},
   "source": [
    "## 2. ETL (Local)\n",
    " [Go back to the \"Table of contents\"](#Table-of-contents)"
   ]
  },
  {
   "cell_type": "markdown",
   "metadata": {},
   "source": [
    "## Objectives\n",
    "*   Read CSV,JSON , XML file formats.\n",
    "*   Extract data from the mentioned file formats.\n",
    "*   Transform data.\n",
    "*  Save the transformed data in a ready-to-load format that can be easily loaded into a relational database management system (RDBMS).\n",
    "\n",
    "## Data description\n",
    "The dataset has been designed to collect information from various sources, resulting in the inclusion of diverse formats such as structured (.csv) and semi-structured file formats (.xml and .json). It encompasses data related to the height and weight of different individuals."
   ]
  },
  {
   "cell_type": "markdown",
   "metadata": {},
   "source": [
    "## 2.1 Extraction\n",
    "[Go back to the \"Table of contents\"](#Table-of-contents)"
   ]
  },
  {
   "cell_type": "markdown",
   "metadata": {},
   "source": [
    "<strong> The following functions extract data from the respective data formats and save it into a dataframe.<strong/>"
   ]
  },
  {
   "cell_type": "markdown",
   "metadata": {},
   "source": [
    "<strong style=\"color:blue\"> CSV Extract Function<strong/>\n"
   ]
  },
  {
   "cell_type": "code",
   "execution_count": 3,
   "metadata": {},
   "outputs": [],
   "source": [
    "def extract_from_csv(files_to_process=[], variables_list=None):\n",
    "    assert(isinstance(files_to_process, list)), \"Please the files_to_process must be a list\"\n",
    "    df_list=[]\n",
    "    for file in files_to_process:\n",
    "        dataframe = pd.read_csv(file)[variables_list]\n",
    "        df_list.append(dataframe)\n",
    "    if len(df_list)>1:\n",
    "        dataframe=pd.concat(df_list,ignore_index=True)\n",
    "    else:\n",
    "        dataframe=df_list[0]\n",
    "    return dataframe"
   ]
  },
  {
   "cell_type": "markdown",
   "metadata": {},
   "source": [
    "<strong style=\"color:blue\"> XML Extract Function<strong/>"
   ]
  },
  {
   "cell_type": "code",
   "execution_count": 4,
   "metadata": {},
   "outputs": [],
   "source": [
    "def extract_from_xml(files_to_process=[],variables_list=None):\n",
    "    assert(isinstance(files_to_process, list)), \"Please the files_to_process must be a list\"\n",
    "    df_list=[]\n",
    "    for file in files_to_process:\n",
    "        tree = ET.parse(file)\n",
    "        root = tree.getroot()\n",
    "        tmp_dic={k:[] for k in variables_list}\n",
    "        for i in root:\n",
    "            for variable in variables_list:\n",
    "                tmp = i.find(variable).text\n",
    "                if tmp.isnumeric():\n",
    "                    tmp_dic[variable].append(float(tmp))\n",
    "                else:\n",
    "                    tmp_dic[variable].append(tmp)\n",
    "        dataframe=pd.DataFrame(tmp_dic)\n",
    "        df_list.append(dataframe)\n",
    "    if len(df_list)>1:\n",
    "        dataframe=pd.concat(df_list,ignore_index=True)\n",
    "    else:\n",
    "        dataframe=df_list[0]\n",
    "    return dataframe"
   ]
  },
  {
   "cell_type": "markdown",
   "metadata": {},
   "source": [
    "<strong style=\"color:blue\"> JSON Extract Function<strong/>"
   ]
  },
  {
   "cell_type": "code",
   "execution_count": 5,
   "metadata": {},
   "outputs": [],
   "source": [
    "def extract_from_json(files_to_process, variables_list=None):\n",
    "    assert(isinstance(files_to_process, list)), \"Please the files_to_process must be a list\"\n",
    "    df_list=[]\n",
    "    for file in files_to_process:\n",
    "        dataframe = pd.read_json(file,lines=True)[variables_list]\n",
    "        df_list.append(dataframe)\n",
    "    if len(df_list)>1:\n",
    "        dataframe=pd.concat(df_list,ignore_index=True)\n",
    "    else:\n",
    "        dataframe=df_list[0]\n",
    "    return dataframe"
   ]
  },
  {
   "cell_type": "markdown",
   "metadata": {},
   "source": [
    "<strong style=\"color:blue\"> Harmonizing all  extracted data<strong/>\n"
   ]
  },
  {
   "cell_type": "code",
   "execution_count": 6,
   "metadata": {},
   "outputs": [],
   "source": [
    "def harmonize(source_path=\".\",variables_list=None, files_extension=[\"csv\"]):\n",
    "    assert(isinstance(files_extension, list)), \"Please the files_extension must be a list\"\n",
    "    func_dic={\"xml\":extract_from_xml,\"csv\":extract_from_csv,\"json\":extract_from_json}\n",
    "    extracted_list=[]\n",
    "    for ext in files_extension:\n",
    "        arg={\"files_to_process\":glob.glob(join(source_path,f\"*.{ext.lower()}\")),\"variables_list\":variables_list} \n",
    "        extracted_list.append(func_dic[ext](**arg))\n",
    "    if len(extracted_list)>1:\n",
    "        harmonized_df=pd.concat(extracted_list,ignore_index=True)\n",
    "    else:\n",
    "        harmonized_df=extracted_list[0]\n",
    "    return  harmonized_df"
   ]
  },
  {
   "cell_type": "code",
   "execution_count": 7,
   "metadata": {},
   "outputs": [
    {
     "data": {
      "text/html": [
       "<div>\n",
       "<style scoped>\n",
       "    .dataframe tbody tr th:only-of-type {\n",
       "        vertical-align: middle;\n",
       "    }\n",
       "\n",
       "    .dataframe tbody tr th {\n",
       "        vertical-align: top;\n",
       "    }\n",
       "\n",
       "    .dataframe thead th {\n",
       "        text-align: right;\n",
       "    }\n",
       "</style>\n",
       "<table border=\"1\" class=\"dataframe\">\n",
       "  <thead>\n",
       "    <tr style=\"text-align: right;\">\n",
       "      <th></th>\n",
       "      <th>name</th>\n",
       "      <th>height</th>\n",
       "      <th>weight</th>\n",
       "    </tr>\n",
       "  </thead>\n",
       "  <tbody>\n",
       "    <tr>\n",
       "      <th>0</th>\n",
       "      <td>alex</td>\n",
       "      <td>65.78</td>\n",
       "      <td>112.99</td>\n",
       "    </tr>\n",
       "    <tr>\n",
       "      <th>1</th>\n",
       "      <td>ajay</td>\n",
       "      <td>71.52</td>\n",
       "      <td>136.49</td>\n",
       "    </tr>\n",
       "    <tr>\n",
       "      <th>2</th>\n",
       "      <td>alice</td>\n",
       "      <td>69.40</td>\n",
       "      <td>153.03</td>\n",
       "    </tr>\n",
       "    <tr>\n",
       "      <th>3</th>\n",
       "      <td>ravi</td>\n",
       "      <td>68.22</td>\n",
       "      <td>142.34</td>\n",
       "    </tr>\n",
       "    <tr>\n",
       "      <th>4</th>\n",
       "      <td>joe</td>\n",
       "      <td>67.79</td>\n",
       "      <td>144.30</td>\n",
       "    </tr>\n",
       "    <tr>\n",
       "      <th>5</th>\n",
       "      <td>alex</td>\n",
       "      <td>65.78</td>\n",
       "      <td>112.99</td>\n",
       "    </tr>\n",
       "    <tr>\n",
       "      <th>6</th>\n",
       "      <td>ajay</td>\n",
       "      <td>71.52</td>\n",
       "      <td>136.49</td>\n",
       "    </tr>\n",
       "    <tr>\n",
       "      <th>7</th>\n",
       "      <td>alice</td>\n",
       "      <td>69.40</td>\n",
       "      <td>153.03</td>\n",
       "    </tr>\n",
       "    <tr>\n",
       "      <th>8</th>\n",
       "      <td>ravi</td>\n",
       "      <td>68.22</td>\n",
       "      <td>142.34</td>\n",
       "    </tr>\n",
       "    <tr>\n",
       "      <th>9</th>\n",
       "      <td>joe</td>\n",
       "      <td>67.79</td>\n",
       "      <td>144.30</td>\n",
       "    </tr>\n",
       "  </tbody>\n",
       "</table>\n",
       "</div>"
      ],
      "text/plain": [
       "    name  height  weight\n",
       "0   alex   65.78  112.99\n",
       "1   ajay   71.52  136.49\n",
       "2  alice   69.40  153.03\n",
       "3   ravi   68.22  142.34\n",
       "4    joe   67.79  144.30\n",
       "5   alex   65.78  112.99\n",
       "6   ajay   71.52  136.49\n",
       "7  alice   69.40  153.03\n",
       "8   ravi   68.22  142.34\n",
       "9    joe   67.79  144.30"
      ]
     },
     "execution_count": 7,
     "metadata": {},
     "output_type": "execute_result"
    }
   ],
   "source": [
    "extract_from_csv([\"./source1.csv\",\"./source2.csv\"], variables_list=[\"name\", \"height\", \"weight\"])"
   ]
  },
  {
   "cell_type": "code",
   "execution_count": 8,
   "metadata": {},
   "outputs": [
    {
     "data": {
      "text/html": [
       "<div>\n",
       "<style scoped>\n",
       "    .dataframe tbody tr th:only-of-type {\n",
       "        vertical-align: middle;\n",
       "    }\n",
       "\n",
       "    .dataframe tbody tr th {\n",
       "        vertical-align: top;\n",
       "    }\n",
       "\n",
       "    .dataframe thead th {\n",
       "        text-align: right;\n",
       "    }\n",
       "</style>\n",
       "<table border=\"1\" class=\"dataframe\">\n",
       "  <thead>\n",
       "    <tr style=\"text-align: right;\">\n",
       "      <th></th>\n",
       "      <th>name</th>\n",
       "      <th>height</th>\n",
       "      <th>weight</th>\n",
       "    </tr>\n",
       "  </thead>\n",
       "  <tbody>\n",
       "    <tr>\n",
       "      <th>0</th>\n",
       "      <td>simon</td>\n",
       "      <td>67.90</td>\n",
       "      <td>112.37</td>\n",
       "    </tr>\n",
       "    <tr>\n",
       "      <th>1</th>\n",
       "      <td>jacob</td>\n",
       "      <td>66.78</td>\n",
       "      <td>120.67</td>\n",
       "    </tr>\n",
       "    <tr>\n",
       "      <th>2</th>\n",
       "      <td>cindy</td>\n",
       "      <td>66.49</td>\n",
       "      <td>127.45</td>\n",
       "    </tr>\n",
       "    <tr>\n",
       "      <th>3</th>\n",
       "      <td>ivan</td>\n",
       "      <td>67.62</td>\n",
       "      <td>114.14</td>\n",
       "    </tr>\n",
       "  </tbody>\n",
       "</table>\n",
       "</div>"
      ],
      "text/plain": [
       "    name height  weight\n",
       "0  simon  67.90  112.37\n",
       "1  jacob  66.78  120.67\n",
       "2  cindy  66.49  127.45\n",
       "3   ivan  67.62  114.14"
      ]
     },
     "execution_count": 8,
     "metadata": {},
     "output_type": "execute_result"
    }
   ],
   "source": [
    "extract_from_xml([\"./source2.xml\"],variables_list=[\"name\", \"height\", \"weight\"])"
   ]
  },
  {
   "cell_type": "code",
   "execution_count": 9,
   "metadata": {},
   "outputs": [
    {
     "data": {
      "text/html": [
       "<div>\n",
       "<style scoped>\n",
       "    .dataframe tbody tr th:only-of-type {\n",
       "        vertical-align: middle;\n",
       "    }\n",
       "\n",
       "    .dataframe tbody tr th {\n",
       "        vertical-align: top;\n",
       "    }\n",
       "\n",
       "    .dataframe thead th {\n",
       "        text-align: right;\n",
       "    }\n",
       "</style>\n",
       "<table border=\"1\" class=\"dataframe\">\n",
       "  <thead>\n",
       "    <tr style=\"text-align: right;\">\n",
       "      <th></th>\n",
       "      <th>name</th>\n",
       "      <th>height</th>\n",
       "      <th>weight</th>\n",
       "    </tr>\n",
       "  </thead>\n",
       "  <tbody>\n",
       "    <tr>\n",
       "      <th>0</th>\n",
       "      <td>jack</td>\n",
       "      <td>68.70</td>\n",
       "      <td>123.30</td>\n",
       "    </tr>\n",
       "    <tr>\n",
       "      <th>1</th>\n",
       "      <td>tom</td>\n",
       "      <td>69.80</td>\n",
       "      <td>141.49</td>\n",
       "    </tr>\n",
       "    <tr>\n",
       "      <th>2</th>\n",
       "      <td>tracy</td>\n",
       "      <td>70.01</td>\n",
       "      <td>136.46</td>\n",
       "    </tr>\n",
       "    <tr>\n",
       "      <th>3</th>\n",
       "      <td>john</td>\n",
       "      <td>67.90</td>\n",
       "      <td>112.37</td>\n",
       "    </tr>\n",
       "  </tbody>\n",
       "</table>\n",
       "</div>"
      ],
      "text/plain": [
       "    name  height  weight\n",
       "0   jack   68.70  123.30\n",
       "1    tom   69.80  141.49\n",
       "2  tracy   70.01  136.46\n",
       "3   john   67.90  112.37"
      ]
     },
     "execution_count": 9,
     "metadata": {},
     "output_type": "execute_result"
    }
   ],
   "source": [
    "extract_from_json([\"./source1.json\"], variables_list=[\"name\", \"height\", \"weight\"])"
   ]
  },
  {
   "cell_type": "code",
   "execution_count": 10,
   "metadata": {},
   "outputs": [
    {
     "data": {
      "text/html": [
       "<div>\n",
       "<style scoped>\n",
       "    .dataframe tbody tr th:only-of-type {\n",
       "        vertical-align: middle;\n",
       "    }\n",
       "\n",
       "    .dataframe tbody tr th {\n",
       "        vertical-align: top;\n",
       "    }\n",
       "\n",
       "    .dataframe thead th {\n",
       "        text-align: right;\n",
       "    }\n",
       "</style>\n",
       "<table border=\"1\" class=\"dataframe\">\n",
       "  <thead>\n",
       "    <tr style=\"text-align: right;\">\n",
       "      <th></th>\n",
       "      <th>name</th>\n",
       "      <th>height</th>\n",
       "      <th>weight</th>\n",
       "    </tr>\n",
       "  </thead>\n",
       "  <tbody>\n",
       "    <tr>\n",
       "      <th>0</th>\n",
       "      <td>alex</td>\n",
       "      <td>65.78</td>\n",
       "      <td>112.99</td>\n",
       "    </tr>\n",
       "    <tr>\n",
       "      <th>1</th>\n",
       "      <td>ajay</td>\n",
       "      <td>71.52</td>\n",
       "      <td>136.49</td>\n",
       "    </tr>\n",
       "    <tr>\n",
       "      <th>2</th>\n",
       "      <td>alice</td>\n",
       "      <td>69.40</td>\n",
       "      <td>153.03</td>\n",
       "    </tr>\n",
       "    <tr>\n",
       "      <th>3</th>\n",
       "      <td>ravi</td>\n",
       "      <td>68.22</td>\n",
       "      <td>142.34</td>\n",
       "    </tr>\n",
       "    <tr>\n",
       "      <th>4</th>\n",
       "      <td>joe</td>\n",
       "      <td>67.79</td>\n",
       "      <td>144.30</td>\n",
       "    </tr>\n",
       "  </tbody>\n",
       "</table>\n",
       "</div>"
      ],
      "text/plain": [
       "    name  height  weight\n",
       "0   alex   65.78  112.99\n",
       "1   ajay   71.52  136.49\n",
       "2  alice   69.40  153.03\n",
       "3   ravi   68.22  142.34\n",
       "4    joe   67.79  144.30"
      ]
     },
     "execution_count": 10,
     "metadata": {},
     "output_type": "execute_result"
    }
   ],
   "source": [
    "all_data=harmonize(variables_list=[\"name\", \"height\", \"weight\"], files_extension=[\"csv\",\"json\",\"xml\"])\n",
    "all_data[[\"height\",\"weight\"]]=all_data[[\"height\",\"weight\"]].astype(float)\n",
    "all_data.head()"
   ]
  },
  {
   "cell_type": "markdown",
   "metadata": {},
   "source": [
    "## 2.2 Transformation\n",
    "[Go back to the \"Table of contents\"](#Table-of-contents)"
   ]
  },
  {
   "cell_type": "markdown",
   "metadata": {},
   "source": [
    "The transformation function carries out the subsequent actions:\n",
    "\n",
    "* It converts the height from inches to millimeters.\n",
    "* It changes the weight from pounds to kilograms."
   ]
  },
  {
   "cell_type": "markdown",
   "metadata": {},
   "source": [
    "<div class=\"alert alert-block alert-info\">\n",
    "\n",
    "<b> Tip:In addition to the transformation of physical units, other transformation processes may include data cleaning and enrichment. These processes encompass tasks such as removing or interpolating missing values and changing the data type. The provided examples offer a straightforward demonstration of the transformation process and assume the dataset has no missing values.  </b>\n",
    "\n",
    "</div>\n"
   ]
  },
  {
   "cell_type": "code",
   "execution_count": 11,
   "metadata": {},
   "outputs": [],
   "source": [
    "def transform(data_df=None, col=None,from_unit=None,to_unit=None):\n",
    "    sub_df=data_df.copy()\n",
    "    ureg = pint.UnitRegistry()\n",
    "    converter=(1 * ureg(from_unit)).to(ureg(to_unit)).magnitude\n",
    "    if isinstance(col, list):\n",
    "        for cl in col:\n",
    "            # Apply the conversion function to a specific column using apply()\n",
    "            sub_df[cl] = sub_df[cl].apply(lambda x: x*converter)\n",
    "    else:\n",
    "        # Apply the function on all of the columns  \n",
    "        sub_df = sub_df.applymap(lambda x: x*converter)   \n",
    "    return sub_df\n"
   ]
  },
  {
   "cell_type": "code",
   "execution_count": 12,
   "metadata": {},
   "outputs": [],
   "source": [
    "all_data_transformed=transform(all_data,col=[\"height\"],from_unit=\"inch\", to_unit=\"mm\")\n",
    "all_data_transformed=transform(all_data_transformed,col=[\"weight\"],from_unit=\"pound\", to_unit=\"kg\")"
   ]
  },
  {
   "cell_type": "code",
   "execution_count": 13,
   "metadata": {},
   "outputs": [
    {
     "data": {
      "text/html": [
       "<div>\n",
       "<style scoped>\n",
       "    .dataframe tbody tr th:only-of-type {\n",
       "        vertical-align: middle;\n",
       "    }\n",
       "\n",
       "    .dataframe tbody tr th {\n",
       "        vertical-align: top;\n",
       "    }\n",
       "\n",
       "    .dataframe thead th {\n",
       "        text-align: right;\n",
       "    }\n",
       "</style>\n",
       "<table border=\"1\" class=\"dataframe\">\n",
       "  <thead>\n",
       "    <tr style=\"text-align: right;\">\n",
       "      <th></th>\n",
       "      <th>name</th>\n",
       "      <th>height</th>\n",
       "      <th>weight</th>\n",
       "    </tr>\n",
       "  </thead>\n",
       "  <tbody>\n",
       "    <tr>\n",
       "      <th>0</th>\n",
       "      <td>alex</td>\n",
       "      <td>65.78</td>\n",
       "      <td>112.99</td>\n",
       "    </tr>\n",
       "    <tr>\n",
       "      <th>1</th>\n",
       "      <td>ajay</td>\n",
       "      <td>71.52</td>\n",
       "      <td>136.49</td>\n",
       "    </tr>\n",
       "    <tr>\n",
       "      <th>2</th>\n",
       "      <td>alice</td>\n",
       "      <td>69.40</td>\n",
       "      <td>153.03</td>\n",
       "    </tr>\n",
       "    <tr>\n",
       "      <th>3</th>\n",
       "      <td>ravi</td>\n",
       "      <td>68.22</td>\n",
       "      <td>142.34</td>\n",
       "    </tr>\n",
       "    <tr>\n",
       "      <th>4</th>\n",
       "      <td>joe</td>\n",
       "      <td>67.79</td>\n",
       "      <td>144.30</td>\n",
       "    </tr>\n",
       "  </tbody>\n",
       "</table>\n",
       "</div>"
      ],
      "text/plain": [
       "    name  height  weight\n",
       "0   alex   65.78  112.99\n",
       "1   ajay   71.52  136.49\n",
       "2  alice   69.40  153.03\n",
       "3   ravi   68.22  142.34\n",
       "4    joe   67.79  144.30"
      ]
     },
     "execution_count": 13,
     "metadata": {},
     "output_type": "execute_result"
    }
   ],
   "source": [
    "#original data\n",
    "all_data.head()"
   ]
  },
  {
   "cell_type": "code",
   "execution_count": 14,
   "metadata": {},
   "outputs": [
    {
     "data": {
      "text/html": [
       "<div>\n",
       "<style scoped>\n",
       "    .dataframe tbody tr th:only-of-type {\n",
       "        vertical-align: middle;\n",
       "    }\n",
       "\n",
       "    .dataframe tbody tr th {\n",
       "        vertical-align: top;\n",
       "    }\n",
       "\n",
       "    .dataframe thead th {\n",
       "        text-align: right;\n",
       "    }\n",
       "</style>\n",
       "<table border=\"1\" class=\"dataframe\">\n",
       "  <thead>\n",
       "    <tr style=\"text-align: right;\">\n",
       "      <th></th>\n",
       "      <th>name</th>\n",
       "      <th>height</th>\n",
       "      <th>weight</th>\n",
       "    </tr>\n",
       "  </thead>\n",
       "  <tbody>\n",
       "    <tr>\n",
       "      <th>0</th>\n",
       "      <td>alex</td>\n",
       "      <td>1670.812</td>\n",
       "      <td>51.251402</td>\n",
       "    </tr>\n",
       "    <tr>\n",
       "      <th>1</th>\n",
       "      <td>ajay</td>\n",
       "      <td>1816.608</td>\n",
       "      <td>61.910823</td>\n",
       "    </tr>\n",
       "    <tr>\n",
       "      <th>2</th>\n",
       "      <td>alice</td>\n",
       "      <td>1762.760</td>\n",
       "      <td>69.413240</td>\n",
       "    </tr>\n",
       "    <tr>\n",
       "      <th>3</th>\n",
       "      <td>ravi</td>\n",
       "      <td>1732.788</td>\n",
       "      <td>64.564338</td>\n",
       "    </tr>\n",
       "    <tr>\n",
       "      <th>4</th>\n",
       "      <td>joe</td>\n",
       "      <td>1721.866</td>\n",
       "      <td>65.453379</td>\n",
       "    </tr>\n",
       "  </tbody>\n",
       "</table>\n",
       "</div>"
      ],
      "text/plain": [
       "    name    height     weight\n",
       "0   alex  1670.812  51.251402\n",
       "1   ajay  1816.608  61.910823\n",
       "2  alice  1762.760  69.413240\n",
       "3   ravi  1732.788  64.564338\n",
       "4    joe  1721.866  65.453379"
      ]
     },
     "execution_count": 14,
     "metadata": {},
     "output_type": "execute_result"
    }
   ],
   "source": [
    "#transformed data\n",
    "all_data_transformed.head()"
   ]
  },
  {
   "cell_type": "markdown",
   "metadata": {},
   "source": [
    "## 2.3 Loading\n",
    "[Go back to the \"Table of contents\"](#Table-of-contents)"
   ]
  },
  {
   "cell_type": "markdown",
   "metadata": {},
   "source": [
    "<strong>Once the essential data transformation is complete, the converted data can be stored by saving it locally in a repository, a database, or even in a storage system situated on a remote server or cloud platform. In this demonstration, we will showcase how to store the transformed data in a local repository and also within a local relational database management system (RDMS), specifically using SQLite.<strong/>"
   ]
  },
  {
   "cell_type": "markdown",
   "metadata": {},
   "source": [
    "## 2.3.1 Loading into a local directory\n",
    "[Go back to the \"Table of contents\"](#Table-of-contents)"
   ]
  },
  {
   "cell_type": "code",
   "execution_count": 15,
   "metadata": {},
   "outputs": [],
   "source": [
    "def load(targetfile=None,data_to_load=None):\n",
    "    assert(isinstance(data_to_load,pd.DataFrame)), \"The data to load must be a class of pandas dataframe\"\n",
    "    data_to_load.to_csv(targetfile, index=False)  "
   ]
  },
  {
   "cell_type": "code",
   "execution_count": 16,
   "metadata": {},
   "outputs": [],
   "source": [
    "load(targetfile=\"./transformed_data/ready-to-use-data.csv\",data_to_load=all_data_transformed)"
   ]
  },
  {
   "cell_type": "markdown",
   "metadata": {},
   "source": [
    "## 2.3.2 Loading into a local RDBMS\n",
    "[Go back to the \"Table of contents\"](#Table-of-contents)"
   ]
  },
  {
   "cell_type": "code",
   "execution_count": 17,
   "metadata": {},
   "outputs": [
    {
     "data": {
      "text/html": [
       "<div>\n",
       "<style scoped>\n",
       "    .dataframe tbody tr th:only-of-type {\n",
       "        vertical-align: middle;\n",
       "    }\n",
       "\n",
       "    .dataframe tbody tr th {\n",
       "        vertical-align: top;\n",
       "    }\n",
       "\n",
       "    .dataframe thead th {\n",
       "        text-align: right;\n",
       "    }\n",
       "</style>\n",
       "<table border=\"1\" class=\"dataframe\">\n",
       "  <thead>\n",
       "    <tr style=\"text-align: right;\">\n",
       "      <th></th>\n",
       "      <th>id</th>\n",
       "      <th>name</th>\n",
       "      <th>height</th>\n",
       "      <th>weight</th>\n",
       "    </tr>\n",
       "  </thead>\n",
       "  <tbody>\n",
       "    <tr>\n",
       "      <th>0</th>\n",
       "      <td>alex_0</td>\n",
       "      <td>alex</td>\n",
       "      <td>1670.812</td>\n",
       "      <td>51.251402</td>\n",
       "    </tr>\n",
       "    <tr>\n",
       "      <th>1</th>\n",
       "      <td>ajay_1</td>\n",
       "      <td>ajay</td>\n",
       "      <td>1816.608</td>\n",
       "      <td>61.910823</td>\n",
       "    </tr>\n",
       "    <tr>\n",
       "      <th>2</th>\n",
       "      <td>alice_2</td>\n",
       "      <td>alice</td>\n",
       "      <td>1762.760</td>\n",
       "      <td>69.413240</td>\n",
       "    </tr>\n",
       "    <tr>\n",
       "      <th>3</th>\n",
       "      <td>ravi_3</td>\n",
       "      <td>ravi</td>\n",
       "      <td>1732.788</td>\n",
       "      <td>64.564338</td>\n",
       "    </tr>\n",
       "    <tr>\n",
       "      <th>4</th>\n",
       "      <td>joe_4</td>\n",
       "      <td>joe</td>\n",
       "      <td>1721.866</td>\n",
       "      <td>65.453379</td>\n",
       "    </tr>\n",
       "  </tbody>\n",
       "</table>\n",
       "</div>"
      ],
      "text/plain": [
       "        id   name    height     weight\n",
       "0   alex_0   alex  1670.812  51.251402\n",
       "1   ajay_1   ajay  1816.608  61.910823\n",
       "2  alice_2  alice  1762.760  69.413240\n",
       "3   ravi_3   ravi  1732.788  64.564338\n",
       "4    joe_4    joe  1721.866  65.453379"
      ]
     },
     "execution_count": 17,
     "metadata": {},
     "output_type": "execute_result"
    }
   ],
   "source": [
    "\n",
    "columns=all_data_transformed.columns.values.tolist()\n",
    "#add extra column id which is the combination of the names and its index value .\n",
    "#Note this could any unique value\n",
    "all_data_transformed['id']=[f\"{name}_{id}\" for name, id in zip(all_data_transformed['name'].values,all_data_transformed.index.values)]\n",
    "#reorder columns\n",
    "columns=[\"id\"]+columns\n",
    "all_data_transformed=all_data_transformed[columns]\n",
    "all_data_transformed.head()"
   ]
  },
  {
   "cell_type": "code",
   "execution_count": 18,
   "metadata": {},
   "outputs": [],
   "source": [
    "#create a connection to the database\n",
    "con=sqlite3.connect(\"./ETL.db\")\n",
    "#setup a cursor to allow us execute commands on a database\n",
    "cur=con.cursor()"
   ]
  },
  {
   "cell_type": "code",
   "execution_count": 19,
   "metadata": {},
   "outputs": [],
   "source": [
    "columns=\",\".join([cols for cols in all_data_transformed.columns])\n",
    "create_table_query = f\"CREATE TABLE IF NOT EXISTS harmonized_data({columns}, PRIMARY KEY (id))\""
   ]
  },
  {
   "cell_type": "code",
   "execution_count": 20,
   "metadata": {},
   "outputs": [
    {
     "data": {
      "text/plain": [
       "<sqlite3.Cursor at 0x1f9dc1ab6c0>"
      ]
     },
     "execution_count": 20,
     "metadata": {},
     "output_type": "execute_result"
    }
   ],
   "source": [
    "# Execute the CREATE TABLE statement\n",
    "cur.execute(create_table_query)"
   ]
  },
  {
   "cell_type": "code",
   "execution_count": 21,
   "metadata": {},
   "outputs": [],
   "source": [
    "#populate the harmonized_data table in the ETL database\n",
    "for rows , cols in all_data_transformed.iterrows():\n",
    "    cur.execute(f'''INSERT OR IGNORE INTO harmonized_data VALUES {tuple(cols.values)}''')\n",
    "\n",
    "# Commit the changes and close the connection\n",
    "con.commit()"
   ]
  },
  {
   "cell_type": "code",
   "execution_count": 22,
   "metadata": {},
   "outputs": [
    {
     "name": "stdout",
     "output_type": "stream",
     "text": [
      "('alex_0', 'alex', 1670.812, 51.25140188630001)\n",
      "('ajay_1', 'ajay', 1816.6079999999995, 61.91082258130002)\n",
      "('alice_2', 'alice', 1762.76, 69.41324038110001)\n",
      "('ravi_3', 'ravi', 1732.7879999999998, 64.56433794580002)\n",
      "('joe_4', 'joe', 1721.866, 65.45337899100002)\n",
      "('alex_5', 'alex', 1670.812, 51.25140188630001)\n",
      "('ajay_6', 'ajay', 1816.6079999999995, 61.91082258130002)\n",
      "('alice_7', 'alice', 1762.76, 69.41324038110001)\n",
      "('ravi_8', 'ravi', 1732.7879999999998, 64.56433794580002)\n",
      "('joe_9', 'joe', 1721.866, 65.45337899100002)\n",
      "('alex_10', 'alex', 1670.812, 51.25140188630001)\n",
      "('ajay_11', 'ajay', 1816.6079999999995, 61.91082258130002)\n",
      "('alice_12', 'alice', 1762.76, 69.41324038110001)\n",
      "('ravi_13', 'ravi', 1732.7879999999998, 64.56433794580002)\n",
      "('joe_14', 'joe', 1721.866, 65.45337899100002)\n",
      "('jack_15', 'jack', 1744.98, 55.92793922100001)\n",
      "('tom_16', 'tom', 1772.9199999999998, 64.17878443130002)\n",
      "('tracy_17', 'tracy', 1778.254, 61.89721481020001)\n",
      "('john_18', 'john', 1724.66, 50.97017461690001)\n",
      "('jack_19', 'jack', 1744.98, 55.92793922100001)\n",
      "('tom_20', 'tom', 1772.9199999999998, 64.17878443130002)\n",
      "('tracy_21', 'tracy', 1778.254, 61.89721481020001)\n",
      "('john_22', 'john', 1724.66, 50.97017461690001)\n",
      "('jack_23', 'jack', 1744.98, 55.92793922100001)\n",
      "('tom_24', 'tom', 1772.9199999999998, 64.17878443130002)\n",
      "('tracy_25', 'tracy', 1778.254, 61.89721481020001)\n",
      "('john_26', 'john', 1724.66, 50.97017461690001)\n",
      "('simon_27', 'simon', 1724.66, 50.97017461690001)\n",
      "('jacob_28', 'jacob', 1696.212, 54.73499128790001)\n",
      "('cindy_29', 'cindy', 1688.8459999999998, 57.81034755650001)\n",
      "('ivan_30', 'ivan', 1717.548, 51.77303311180001)\n",
      "('simon_31', 'simon', 1724.66, 50.97017461690001)\n",
      "('jacob_32', 'jacob', 1696.212, 54.73499128790001)\n",
      "('cindy_33', 'cindy', 1688.8459999999998, 57.81034755650001)\n",
      "('ivan_34', 'ivan', 1717.548, 51.77303311180001)\n",
      "('simon_35', 'simon', 1724.66, 50.97017461690001)\n",
      "('jacob_36', 'jacob', 1696.212, 54.73499128790001)\n",
      "('cindy_37', 'cindy', 1688.8459999999998, 57.81034755650001)\n",
      "('ivan_38', 'ivan', 1717.548, 51.77303311180001)\n"
     ]
    }
   ],
   "source": [
    "#View your data table\n",
    "for row in cur.execute('''SELECT * FROM harmonized_data'''):\n",
    "    print(row)\n"
   ]
  },
  {
   "cell_type": "code",
   "execution_count": 23,
   "metadata": {},
   "outputs": [],
   "source": [
    "#close all operation on the  database\n",
    "cur.close()\n",
    "con.close()"
   ]
  },
  {
   "cell_type": "code",
   "execution_count": null,
   "metadata": {},
   "outputs": [],
   "source": []
  },
  {
   "cell_type": "code",
   "execution_count": null,
   "metadata": {},
   "outputs": [],
   "source": []
  }
 ],
 "metadata": {
  "kernelspec": {
   "display_name": "Python 3 (ipykernel)",
   "language": "python",
   "name": "python3"
  },
  "language_info": {
   "codemirror_mode": {
    "name": "ipython",
    "version": 3
   },
   "file_extension": ".py",
   "mimetype": "text/x-python",
   "name": "python",
   "nbconvert_exporter": "python",
   "pygments_lexer": "ipython3",
   "version": "3.9.1"
  }
 },
 "nbformat": 4,
 "nbformat_minor": 4
}
